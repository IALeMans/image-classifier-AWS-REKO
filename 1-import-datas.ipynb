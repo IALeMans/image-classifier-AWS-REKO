{
 "cells": [
  {
   "cell_type": "code",
   "execution_count": 1,
   "metadata": {},
   "outputs": [],
   "source": [
    "import os\n",
    "import pandas as pd"
   ]
  },
  {
   "cell_type": "code",
   "execution_count": 2,
   "metadata": {},
   "outputs": [],
   "source": [
    "def get_files_list(datadir):\n",
    "    all_files = os.listdir(os.path.abspath(datadir))\n",
    "    data_files = list(filter(lambda file: (file.endswith('.jpeg') \n",
    "                                           or file.endswith('.jpg')\n",
    "                                           or file.endswith('.JPG')\n",
    "                                           or file.endswith('.JPEG')\n",
    "                                           or file.endswith('.PNG')\n",
    "                                           or file.endswith('.png')), all_files))\n",
    "    return pd.DataFrame(data_files,columns=['file_name'])"
   ]
  },
  {
   "cell_type": "code",
   "execution_count": 3,
   "metadata": {},
   "outputs": [],
   "source": [
    "df_appels = pd.read_csv('Mairie_appels.csv',sep=\";\")\n",
    "df_appels['cle']= df_appels.C_DEFDOCOLE.apply(lambda x: int(x.replace(u'\\xa0', '')))\n",
    "df_appels.set_index('cle', inplace=True)\n",
    "df_appels.sort_index(inplace=True)\n",
    "#df_appels.info()"
   ]
  },
  {
   "cell_type": "code",
   "execution_count": 4,
   "metadata": {},
   "outputs": [
    {
     "name": "stdout",
     "output_type": "stream",
     "text": [
      "<class 'pandas.core.frame.DataFrame'>\n",
      "Int64Index: 4490 entries, 19519 to 29813\n",
      "Data columns (total 26 columns):\n",
      "NO_APPEL                      4490 non-null object\n",
      "N_SITE                        4490 non-null object\n",
      "CP_SITE                       4434 non-null float64\n",
      "CO_SITE                       4489 non-null object\n",
      "I_SI_QUARINSEE                4416 non-null object\n",
      "D_CREATION                    4490 non-null object\n",
      "L_EQUIPE                      4490 non-null object\n",
      "C_TYPEPB                      4490 non-null object\n",
      "L_FULLNAMETYPEPB              4490 non-null object\n",
      "DE_SYMPAPPEL                  4490 non-null object\n",
      "D_APPEL                       4490 non-null object\n",
      "L_STAPPEL                     4490 non-null object\n",
      "I_AP_EQASS                    4475 non-null object\n",
      "I_AP_MODESIGNAL               4490 non-null object\n",
      "I_AP_CAUSE                    4460 non-null object\n",
      "NVL(A.I_AP_NO,A.I_AP_UTNO)    2337 non-null object\n",
      "I_AP_TYPEDEM                  4490 non-null object\n",
      "I_AP_DANGER2                  4489 non-null object\n",
      "I_AP_DOMAINE                  4490 non-null object\n",
      "I_AP_PRECLIEU                 296 non-null object\n",
      "I_AP_TYPELIEU2                1582 non-null object\n",
      "I_AP_SANTE_PUB                4490 non-null object\n",
      "I_AP_COORD_X                  0 non-null float64\n",
      "I_AP_COORD_Y                  0 non-null float64\n",
      "C_MEMO                        4490 non-null object\n",
      "C_DEFDOCOLE                   4490 non-null object\n",
      "dtypes: float64(3), object(23)\n",
      "memory usage: 947.1+ KB\n"
     ]
    }
   ],
   "source": [
    "df_appels.info()"
   ]
  },
  {
   "cell_type": "code",
   "execution_count": 5,
   "metadata": {},
   "outputs": [],
   "source": [
    "datadir = \"./Upload/\"\n",
    "df_images = get_files_list(datadir)\n",
    "df_images['cle']= df_images.file_name.apply(lambda x: int(x.split(sep=\"-\")[0]))\n",
    "df_images.set_index('cle', inplace=True)\n",
    "df_images.sort_index(inplace=True)\n",
    "#df_images.info()"
   ]
  },
  {
   "cell_type": "code",
   "execution_count": 8,
   "metadata": {},
   "outputs": [
    {
     "name": "stdout",
     "output_type": "stream",
     "text": [
      "<class 'pandas.core.frame.DataFrame'>\n",
      "Int64Index: 7543 entries, 19506 to 29815\n",
      "Data columns (total 1 columns):\n",
      "file_name    7543 non-null object\n",
      "dtypes: object(1)\n",
      "memory usage: 437.9+ KB\n"
     ]
    }
   ],
   "source": [
    "df_images.info()"
   ]
  },
  {
   "cell_type": "code",
   "execution_count": 6,
   "metadata": {},
   "outputs": [],
   "source": [
    "df_concat = pd.merge(df_appels,df_images,left_index=True,right_index=True)\n",
    "#df_concat.head()"
   ]
  },
  {
   "cell_type": "code",
   "execution_count": 7,
   "metadata": {},
   "outputs": [
    {
     "name": "stdout",
     "output_type": "stream",
     "text": [
      "<class 'pandas.core.frame.DataFrame'>\n",
      "Int64Index: 4005 entries, 19519 to 29813\n",
      "Data columns (total 27 columns):\n",
      "NO_APPEL                      4005 non-null object\n",
      "N_SITE                        4005 non-null object\n",
      "CP_SITE                       3954 non-null float64\n",
      "CO_SITE                       4004 non-null object\n",
      "I_SI_QUARINSEE                3939 non-null object\n",
      "D_CREATION                    4005 non-null object\n",
      "L_EQUIPE                      4005 non-null object\n",
      "C_TYPEPB                      4005 non-null object\n",
      "L_FULLNAMETYPEPB              4005 non-null object\n",
      "DE_SYMPAPPEL                  4005 non-null object\n",
      "D_APPEL                       4005 non-null object\n",
      "L_STAPPEL                     4005 non-null object\n",
      "I_AP_EQASS                    3993 non-null object\n",
      "I_AP_MODESIGNAL               4005 non-null object\n",
      "I_AP_CAUSE                    3975 non-null object\n",
      "NVL(A.I_AP_NO,A.I_AP_UTNO)    2104 non-null object\n",
      "I_AP_TYPEDEM                  4005 non-null object\n",
      "I_AP_DANGER2                  4004 non-null object\n",
      "I_AP_DOMAINE                  4005 non-null object\n",
      "I_AP_PRECLIEU                 257 non-null object\n",
      "I_AP_TYPELIEU2                1424 non-null object\n",
      "I_AP_SANTE_PUB                4005 non-null object\n",
      "I_AP_COORD_X                  0 non-null float64\n",
      "I_AP_COORD_Y                  0 non-null float64\n",
      "C_MEMO                        4005 non-null object\n",
      "C_DEFDOCOLE                   4005 non-null object\n",
      "file_name                     4005 non-null object\n",
      "dtypes: float64(3), object(24)\n",
      "memory usage: 876.1+ KB\n"
     ]
    }
   ],
   "source": [
    "df_concat.info()"
   ]
  },
  {
   "cell_type": "code",
   "execution_count": 6,
   "metadata": {},
   "outputs": [],
   "source": [
    "df_concat.to_csv('Mairie_appels_filename.csv',sep=\";\")"
   ]
  },
  {
   "cell_type": "code",
   "execution_count": null,
   "metadata": {},
   "outputs": [],
   "source": [
    "df_concat.head(2)"
   ]
  },
  {
   "cell_type": "code",
   "execution_count": null,
   "metadata": {},
   "outputs": [],
   "source": []
  }
 ],
 "metadata": {
  "kernelspec": {
   "display_name": "Python 3",
   "language": "python",
   "name": "python3"
  },
  "language_info": {
   "codemirror_mode": {
    "name": "ipython",
    "version": 3
   },
   "file_extension": ".py",
   "mimetype": "text/x-python",
   "name": "python",
   "nbconvert_exporter": "python",
   "pygments_lexer": "ipython3",
   "version": "3.6.6"
  }
 },
 "nbformat": 4,
 "nbformat_minor": 2
}
